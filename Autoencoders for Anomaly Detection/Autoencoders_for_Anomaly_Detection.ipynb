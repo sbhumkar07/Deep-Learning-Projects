{
 "cells": [
  {
   "cell_type": "markdown",
   "id": "cf135785",
   "metadata": {},
   "source": [
    "# Importing Necessary Libraries"
   ]
  },
  {
   "cell_type": "code",
   "execution_count": 1,
   "id": "a5c29018",
   "metadata": {},
   "outputs": [],
   "source": [
    "from sklearn.model_selection import train_test_split\n",
    "import numpy as np\n",
    "import pandas as pd\n",
    "import matplotlib.pyplot as plt\n",
    "import seaborn as sns\n",
    "from sklearn.metrics import classification_report\n",
    "from sklearn.metrics import confusion_matrix\n",
    "from hyperopt import hp, fmin, tpe, Trials\n",
    "from sklearn.ensemble import RandomForestRegressor\n",
    "from sklearn.model_selection import cross_val_score, train_test_split\n",
    "from sklearn.datasets import make_regression"
   ]
  },
  {
   "cell_type": "markdown",
   "id": "491d26c5",
   "metadata": {},
   "source": [
    "Importing Data"
   ]
  },
  {
   "cell_type": "code",
   "execution_count": 2,
   "id": "05349308",
   "metadata": {},
   "outputs": [
    {
     "name": "stdout",
     "output_type": "stream",
     "text": [
      "(3179295, 95)\n"
     ]
    },
    {
     "data": {
      "text/html": [
       "<div>\n",
       "<style scoped>\n",
       "    .dataframe tbody tr th:only-of-type {\n",
       "        vertical-align: middle;\n",
       "    }\n",
       "\n",
       "    .dataframe tbody tr th {\n",
       "        vertical-align: top;\n",
       "    }\n",
       "\n",
       "    .dataframe thead th {\n",
       "        text-align: right;\n",
       "    }\n",
       "</style>\n",
       "<table border=\"1\" class=\"dataframe\">\n",
       "  <thead>\n",
       "    <tr style=\"text-align: right;\">\n",
       "      <th></th>\n",
       "      <th>date</th>\n",
       "      <th>serial_number</th>\n",
       "      <th>model</th>\n",
       "      <th>capacity_bytes</th>\n",
       "      <th>failure</th>\n",
       "      <th>smart_1_normalized</th>\n",
       "      <th>smart_1_raw</th>\n",
       "      <th>smart_2_normalized</th>\n",
       "      <th>smart_2_raw</th>\n",
       "      <th>smart_3_normalized</th>\n",
       "      <th>...</th>\n",
       "      <th>smart_250_normalized</th>\n",
       "      <th>smart_250_raw</th>\n",
       "      <th>smart_251_normalized</th>\n",
       "      <th>smart_251_raw</th>\n",
       "      <th>smart_252_normalized</th>\n",
       "      <th>smart_252_raw</th>\n",
       "      <th>smart_254_normalized</th>\n",
       "      <th>smart_254_raw</th>\n",
       "      <th>smart_255_normalized</th>\n",
       "      <th>smart_255_raw</th>\n",
       "    </tr>\n",
       "  </thead>\n",
       "  <tbody>\n",
       "    <tr>\n",
       "      <th>0</th>\n",
       "      <td>2016-01-01</td>\n",
       "      <td>MJ0351YNG9Z0XA</td>\n",
       "      <td>Hitachi HDS5C3030ALA630</td>\n",
       "      <td>1.482490e-311</td>\n",
       "      <td>0</td>\n",
       "      <td>100</td>\n",
       "      <td>0</td>\n",
       "      <td>135.0</td>\n",
       "      <td>108.0</td>\n",
       "      <td>143</td>\n",
       "      <td>...</td>\n",
       "      <td>NaN</td>\n",
       "      <td>NaN</td>\n",
       "      <td>NaN</td>\n",
       "      <td>NaN</td>\n",
       "      <td>NaN</td>\n",
       "      <td>NaN</td>\n",
       "      <td>NaN</td>\n",
       "      <td>NaN</td>\n",
       "      <td>NaN</td>\n",
       "      <td>NaN</td>\n",
       "    </tr>\n",
       "    <tr>\n",
       "      <th>1</th>\n",
       "      <td>2016-01-01</td>\n",
       "      <td>Z305B2QN</td>\n",
       "      <td>ST4000DM000</td>\n",
       "      <td>1.976651e-311</td>\n",
       "      <td>0</td>\n",
       "      <td>113</td>\n",
       "      <td>54551400</td>\n",
       "      <td>NaN</td>\n",
       "      <td>NaN</td>\n",
       "      <td>96</td>\n",
       "      <td>...</td>\n",
       "      <td>NaN</td>\n",
       "      <td>NaN</td>\n",
       "      <td>NaN</td>\n",
       "      <td>NaN</td>\n",
       "      <td>NaN</td>\n",
       "      <td>NaN</td>\n",
       "      <td>NaN</td>\n",
       "      <td>NaN</td>\n",
       "      <td>NaN</td>\n",
       "      <td>NaN</td>\n",
       "    </tr>\n",
       "    <tr>\n",
       "      <th>2</th>\n",
       "      <td>2016-01-01</td>\n",
       "      <td>MJ0351YNG9Z7LA</td>\n",
       "      <td>Hitachi HDS5C3030ALA630</td>\n",
       "      <td>1.482490e-311</td>\n",
       "      <td>0</td>\n",
       "      <td>100</td>\n",
       "      <td>0</td>\n",
       "      <td>136.0</td>\n",
       "      <td>104.0</td>\n",
       "      <td>124</td>\n",
       "      <td>...</td>\n",
       "      <td>NaN</td>\n",
       "      <td>NaN</td>\n",
       "      <td>NaN</td>\n",
       "      <td>NaN</td>\n",
       "      <td>NaN</td>\n",
       "      <td>NaN</td>\n",
       "      <td>NaN</td>\n",
       "      <td>NaN</td>\n",
       "      <td>NaN</td>\n",
       "      <td>NaN</td>\n",
       "    </tr>\n",
       "    <tr>\n",
       "      <th>3</th>\n",
       "      <td>2016-01-01</td>\n",
       "      <td>MJ0351YNGABYAA</td>\n",
       "      <td>Hitachi HDS5C3030ALA630</td>\n",
       "      <td>1.482490e-311</td>\n",
       "      <td>0</td>\n",
       "      <td>100</td>\n",
       "      <td>0</td>\n",
       "      <td>136.0</td>\n",
       "      <td>104.0</td>\n",
       "      <td>137</td>\n",
       "      <td>...</td>\n",
       "      <td>NaN</td>\n",
       "      <td>NaN</td>\n",
       "      <td>NaN</td>\n",
       "      <td>NaN</td>\n",
       "      <td>NaN</td>\n",
       "      <td>NaN</td>\n",
       "      <td>NaN</td>\n",
       "      <td>NaN</td>\n",
       "      <td>NaN</td>\n",
       "      <td>NaN</td>\n",
       "    </tr>\n",
       "    <tr>\n",
       "      <th>4</th>\n",
       "      <td>2016-01-01</td>\n",
       "      <td>WD-WMC4N2899475</td>\n",
       "      <td>WDC WD30EFRX</td>\n",
       "      <td>1.482490e-311</td>\n",
       "      <td>0</td>\n",
       "      <td>200</td>\n",
       "      <td>0</td>\n",
       "      <td>NaN</td>\n",
       "      <td>NaN</td>\n",
       "      <td>175</td>\n",
       "      <td>...</td>\n",
       "      <td>NaN</td>\n",
       "      <td>NaN</td>\n",
       "      <td>NaN</td>\n",
       "      <td>NaN</td>\n",
       "      <td>NaN</td>\n",
       "      <td>NaN</td>\n",
       "      <td>NaN</td>\n",
       "      <td>NaN</td>\n",
       "      <td>NaN</td>\n",
       "      <td>NaN</td>\n",
       "    </tr>\n",
       "  </tbody>\n",
       "</table>\n",
       "<p>5 rows × 95 columns</p>\n",
       "</div>"
      ],
      "text/plain": [
       "         date    serial_number                    model  capacity_bytes  \\\n",
       "0  2016-01-01   MJ0351YNG9Z0XA  Hitachi HDS5C3030ALA630   1.482490e-311   \n",
       "1  2016-01-01         Z305B2QN              ST4000DM000   1.976651e-311   \n",
       "2  2016-01-01   MJ0351YNG9Z7LA  Hitachi HDS5C3030ALA630   1.482490e-311   \n",
       "3  2016-01-01   MJ0351YNGABYAA  Hitachi HDS5C3030ALA630   1.482490e-311   \n",
       "4  2016-01-01  WD-WMC4N2899475             WDC WD30EFRX   1.482490e-311   \n",
       "\n",
       "   failure  smart_1_normalized  smart_1_raw  smart_2_normalized  smart_2_raw  \\\n",
       "0        0                 100            0               135.0        108.0   \n",
       "1        0                 113     54551400                 NaN          NaN   \n",
       "2        0                 100            0               136.0        104.0   \n",
       "3        0                 100            0               136.0        104.0   \n",
       "4        0                 200            0                 NaN          NaN   \n",
       "\n",
       "   smart_3_normalized  ...  smart_250_normalized  smart_250_raw  \\\n",
       "0                 143  ...                   NaN            NaN   \n",
       "1                  96  ...                   NaN            NaN   \n",
       "2                 124  ...                   NaN            NaN   \n",
       "3                 137  ...                   NaN            NaN   \n",
       "4                 175  ...                   NaN            NaN   \n",
       "\n",
       "   smart_251_normalized  smart_251_raw  smart_252_normalized  smart_252_raw  \\\n",
       "0                   NaN            NaN                   NaN            NaN   \n",
       "1                   NaN            NaN                   NaN            NaN   \n",
       "2                   NaN            NaN                   NaN            NaN   \n",
       "3                   NaN            NaN                   NaN            NaN   \n",
       "4                   NaN            NaN                   NaN            NaN   \n",
       "\n",
       "   smart_254_normalized  smart_254_raw  smart_255_normalized  smart_255_raw  \n",
       "0                   NaN            NaN                   NaN            NaN  \n",
       "1                   NaN            NaN                   NaN            NaN  \n",
       "2                   NaN            NaN                   NaN            NaN  \n",
       "3                   NaN            NaN                   NaN            NaN  \n",
       "4                   NaN            NaN                   NaN            NaN  \n",
       "\n",
       "[5 rows x 95 columns]"
      ]
     },
     "execution_count": 2,
     "metadata": {},
     "output_type": "execute_result"
    }
   ],
   "source": [
    "df = pd.read_csv('harddrive.csv')\n",
    "print(df.shape)\n",
    "df.head()"
   ]
  },
  {
   "cell_type": "code",
   "execution_count": 3,
   "id": "5470cee1",
   "metadata": {},
   "outputs": [
    {
     "name": "stdout",
     "output_type": "stream",
     "text": [
      "number of hdd: (65993,)\n",
      "number of different harddrives (69,)\n"
     ]
    }
   ],
   "source": [
    "# number of hdd\n",
    "print(\"number of hdd:\", df['serial_number'].value_counts().shape) \n",
    "\n",
    "# number of different types of harddrives\n",
    "print(\"number of different harddrives\", df['model'].value_counts().shape)"
   ]
  },
  {
   "cell_type": "code",
   "execution_count": 4,
   "id": "42b93c8b",
   "metadata": {},
   "outputs": [
    {
     "data": {
      "text/plain": [
       "215"
      ]
     },
     "execution_count": 4,
     "metadata": {},
     "output_type": "execute_result"
    }
   ],
   "source": [
    "failed_hdds = df.loc[df.failure==1][\"serial_number\"]\n",
    "len(failed_hdds)"
   ]
  },
  {
   "cell_type": "markdown",
   "id": "b2b035e9",
   "metadata": {},
   "source": [
    "# Data Preprocessing"
   ]
  },
  {
   "cell_type": "code",
   "execution_count": 5,
   "id": "010e6b33",
   "metadata": {},
   "outputs": [],
   "source": [
    "df[\"end_date\"] = df.groupby(\"serial_number\")[\"date\"].transform(\"max\")"
   ]
  },
  {
   "cell_type": "code",
   "execution_count": 6,
   "id": "a926cd75",
   "metadata": {},
   "outputs": [],
   "source": [
    "df[\"end_date\"] = pd.to_datetime(df[\"end_date\"])\n",
    "df[\"date\"] = pd.to_datetime(df[\"date\"])"
   ]
  },
  {
   "cell_type": "code",
   "execution_count": 7,
   "id": "a34041d2",
   "metadata": {},
   "outputs": [
    {
     "data": {
      "text/plain": [
       "count                       3179295\n",
       "mean     51 days 17:17:30.845423278\n",
       "std      47 days 02:07:06.545651932\n",
       "min                 0 days 00:00:00\n",
       "25%                12 days 00:00:00\n",
       "50%                24 days 00:00:00\n",
       "75%               106 days 00:00:00\n",
       "max               119 days 00:00:00\n",
       "Name: date_diff, dtype: object"
      ]
     },
     "execution_count": 7,
     "metadata": {},
     "output_type": "execute_result"
    }
   ],
   "source": [
    "df[\"date_diff\"] = df[\"end_date\"] - df[\"date\"]\n",
    "df[\"date_diff\"].describe()"
   ]
  },
  {
   "cell_type": "code",
   "execution_count": 8,
   "id": "2747ef03",
   "metadata": {},
   "outputs": [
    {
     "data": {
      "text/plain": [
       "date                          0\n",
       "serial_number                 0\n",
       "model                         0\n",
       "capacity_bytes                0\n",
       "failure                       0\n",
       "                         ...   \n",
       "smart_254_raw           3171360\n",
       "smart_255_normalized    3179295\n",
       "smart_255_raw           3179295\n",
       "end_date                      0\n",
       "date_diff                     0\n",
       "Length: 97, dtype: int64"
      ]
     },
     "execution_count": 8,
     "metadata": {},
     "output_type": "execute_result"
    }
   ],
   "source": [
    "df.isnull().sum()"
   ]
  },
  {
   "cell_type": "markdown",
   "id": "3a1e76e1",
   "metadata": {},
   "source": [
    "Removing Null Values"
   ]
  },
  {
   "cell_type": "code",
   "execution_count": 9,
   "id": "100a576c",
   "metadata": {},
   "outputs": [],
   "source": [
    "# Calculate the percentage of missing values in each column\n",
    "missing_percentage = df.isnull().mean()\n",
    "\n",
    "# Filter columns with less than or equal to 5% missing values\n",
    "df_notna = df.loc[:, missing_percentage <= 0.05]\n"
   ]
  },
  {
   "cell_type": "code",
   "execution_count": 10,
   "id": "0873c62f",
   "metadata": {},
   "outputs": [
    {
     "name": "stderr",
     "output_type": "stream",
     "text": [
      "C:\\Users\\admin\\AppData\\Local\\Temp\\ipykernel_13876\\748473798.py:1: SettingWithCopyWarning: \n",
      "A value is trying to be set on a copy of a slice from a DataFrame\n",
      "\n",
      "See the caveats in the documentation: https://pandas.pydata.org/pandas-docs/stable/user_guide/indexing.html#returning-a-view-versus-a-copy\n",
      "  df_notna.dropna(inplace=True)\n"
     ]
    }
   ],
   "source": [
    "df_notna.dropna(inplace=True)"
   ]
  },
  {
   "cell_type": "code",
   "execution_count": 11,
   "id": "b8a390d7",
   "metadata": {},
   "outputs": [],
   "source": [
    "df1 = df_notna.copy()"
   ]
  },
  {
   "cell_type": "code",
   "execution_count": 12,
   "id": "e1f0e11f",
   "metadata": {},
   "outputs": [],
   "source": [
    "df1.reset_index(inplace=True, drop=True)"
   ]
  },
  {
   "cell_type": "code",
   "execution_count": 13,
   "id": "07b24820",
   "metadata": {},
   "outputs": [
    {
     "data": {
      "text/plain": [
       "date                    0\n",
       "serial_number           0\n",
       "model                   0\n",
       "capacity_bytes          0\n",
       "failure                 0\n",
       "smart_1_normalized      0\n",
       "smart_1_raw             0\n",
       "smart_3_normalized      0\n",
       "smart_3_raw             0\n",
       "smart_4_normalized      0\n",
       "smart_4_raw             0\n",
       "smart_5_normalized      0\n",
       "smart_5_raw             0\n",
       "smart_7_normalized      0\n",
       "smart_7_raw             0\n",
       "smart_9_normalized      0\n",
       "smart_9_raw             0\n",
       "smart_10_normalized     0\n",
       "smart_10_raw            0\n",
       "smart_12_normalized     0\n",
       "smart_12_raw            0\n",
       "smart_188_raw           0\n",
       "smart_192_normalized    0\n",
       "smart_192_raw           0\n",
       "smart_193_normalized    0\n",
       "smart_193_raw           0\n",
       "smart_194_normalized    0\n",
       "smart_194_raw           0\n",
       "smart_197_normalized    0\n",
       "smart_197_raw           0\n",
       "smart_198_normalized    0\n",
       "smart_198_raw           0\n",
       "smart_199_normalized    0\n",
       "smart_199_raw           0\n",
       "smart_240_raw           0\n",
       "smart_241_raw           0\n",
       "smart_242_raw           0\n",
       "end_date                0\n",
       "date_diff               0\n",
       "dtype: int64"
      ]
     },
     "execution_count": 13,
     "metadata": {},
     "output_type": "execute_result"
    }
   ],
   "source": [
    "df1.isnull().sum()"
   ]
  },
  {
   "cell_type": "code",
   "execution_count": 32,
   "id": "2bc49aef",
   "metadata": {},
   "outputs": [
    {
     "data": {
      "text/html": [
       "<div>\n",
       "<style scoped>\n",
       "    .dataframe tbody tr th:only-of-type {\n",
       "        vertical-align: middle;\n",
       "    }\n",
       "\n",
       "    .dataframe tbody tr th {\n",
       "        vertical-align: top;\n",
       "    }\n",
       "\n",
       "    .dataframe thead th {\n",
       "        text-align: right;\n",
       "    }\n",
       "</style>\n",
       "<table border=\"1\" class=\"dataframe\">\n",
       "  <thead>\n",
       "    <tr style=\"text-align: right;\">\n",
       "      <th></th>\n",
       "      <th>date</th>\n",
       "      <th>serial_number</th>\n",
       "      <th>model</th>\n",
       "      <th>capacity_bytes</th>\n",
       "      <th>failure</th>\n",
       "      <th>smart_1_normalized</th>\n",
       "      <th>smart_1_raw</th>\n",
       "      <th>smart_3_normalized</th>\n",
       "      <th>smart_3_raw</th>\n",
       "      <th>smart_4_normalized</th>\n",
       "      <th>...</th>\n",
       "      <th>smart_197_raw</th>\n",
       "      <th>smart_198_normalized</th>\n",
       "      <th>smart_198_raw</th>\n",
       "      <th>smart_199_normalized</th>\n",
       "      <th>smart_199_raw</th>\n",
       "      <th>smart_240_raw</th>\n",
       "      <th>smart_241_raw</th>\n",
       "      <th>smart_242_raw</th>\n",
       "      <th>end_date</th>\n",
       "      <th>date_diff</th>\n",
       "    </tr>\n",
       "  </thead>\n",
       "  <tbody>\n",
       "    <tr>\n",
       "      <th>0</th>\n",
       "      <td>2016-01-01</td>\n",
       "      <td>MJ0351YNG9Z0XA</td>\n",
       "      <td>Hitachi HDS5C3030ALA630</td>\n",
       "      <td>1.482490e-311</td>\n",
       "      <td>0</td>\n",
       "      <td>100</td>\n",
       "      <td>0</td>\n",
       "      <td>143</td>\n",
       "      <td>540</td>\n",
       "      <td>100</td>\n",
       "      <td>...</td>\n",
       "      <td>0</td>\n",
       "      <td>100</td>\n",
       "      <td>0</td>\n",
       "      <td>200</td>\n",
       "      <td>0</td>\n",
       "      <td>0.000000e+00</td>\n",
       "      <td>0.000000e+00</td>\n",
       "      <td>0.000000e+00</td>\n",
       "      <td>2016-04-29</td>\n",
       "      <td>119 days</td>\n",
       "    </tr>\n",
       "    <tr>\n",
       "      <th>1</th>\n",
       "      <td>2016-01-01</td>\n",
       "      <td>Z305B2QN</td>\n",
       "      <td>ST4000DM000</td>\n",
       "      <td>1.976651e-311</td>\n",
       "      <td>0</td>\n",
       "      <td>113</td>\n",
       "      <td>54551400</td>\n",
       "      <td>96</td>\n",
       "      <td>0</td>\n",
       "      <td>100</td>\n",
       "      <td>...</td>\n",
       "      <td>0</td>\n",
       "      <td>100</td>\n",
       "      <td>0</td>\n",
       "      <td>200</td>\n",
       "      <td>0</td>\n",
       "      <td>1.319155e-321</td>\n",
       "      <td>3.467963e-315</td>\n",
       "      <td>1.316882e-315</td>\n",
       "      <td>2016-04-29</td>\n",
       "      <td>119 days</td>\n",
       "    </tr>\n",
       "    <tr>\n",
       "      <th>2</th>\n",
       "      <td>2016-01-01</td>\n",
       "      <td>MJ0351YNG9Z7LA</td>\n",
       "      <td>Hitachi HDS5C3030ALA630</td>\n",
       "      <td>1.482490e-311</td>\n",
       "      <td>0</td>\n",
       "      <td>100</td>\n",
       "      <td>0</td>\n",
       "      <td>124</td>\n",
       "      <td>566</td>\n",
       "      <td>100</td>\n",
       "      <td>...</td>\n",
       "      <td>0</td>\n",
       "      <td>100</td>\n",
       "      <td>0</td>\n",
       "      <td>200</td>\n",
       "      <td>0</td>\n",
       "      <td>0.000000e+00</td>\n",
       "      <td>0.000000e+00</td>\n",
       "      <td>0.000000e+00</td>\n",
       "      <td>2016-04-29</td>\n",
       "      <td>119 days</td>\n",
       "    </tr>\n",
       "    <tr>\n",
       "      <th>3</th>\n",
       "      <td>2016-01-01</td>\n",
       "      <td>MJ0351YNGABYAA</td>\n",
       "      <td>Hitachi HDS5C3030ALA630</td>\n",
       "      <td>1.482490e-311</td>\n",
       "      <td>0</td>\n",
       "      <td>100</td>\n",
       "      <td>0</td>\n",
       "      <td>137</td>\n",
       "      <td>507</td>\n",
       "      <td>100</td>\n",
       "      <td>...</td>\n",
       "      <td>0</td>\n",
       "      <td>100</td>\n",
       "      <td>0</td>\n",
       "      <td>200</td>\n",
       "      <td>0</td>\n",
       "      <td>0.000000e+00</td>\n",
       "      <td>0.000000e+00</td>\n",
       "      <td>0.000000e+00</td>\n",
       "      <td>2016-04-29</td>\n",
       "      <td>119 days</td>\n",
       "    </tr>\n",
       "    <tr>\n",
       "      <th>4</th>\n",
       "      <td>2016-01-01</td>\n",
       "      <td>WD-WMC4N2899475</td>\n",
       "      <td>WDC WD30EFRX</td>\n",
       "      <td>1.482490e-311</td>\n",
       "      <td>0</td>\n",
       "      <td>200</td>\n",
       "      <td>0</td>\n",
       "      <td>175</td>\n",
       "      <td>6250</td>\n",
       "      <td>100</td>\n",
       "      <td>...</td>\n",
       "      <td>0</td>\n",
       "      <td>100</td>\n",
       "      <td>0</td>\n",
       "      <td>200</td>\n",
       "      <td>0</td>\n",
       "      <td>0.000000e+00</td>\n",
       "      <td>0.000000e+00</td>\n",
       "      <td>0.000000e+00</td>\n",
       "      <td>2016-04-29</td>\n",
       "      <td>119 days</td>\n",
       "    </tr>\n",
       "  </tbody>\n",
       "</table>\n",
       "<p>5 rows × 39 columns</p>\n",
       "</div>"
      ],
      "text/plain": [
       "        date    serial_number                    model  capacity_bytes  \\\n",
       "0 2016-01-01   MJ0351YNG9Z0XA  Hitachi HDS5C3030ALA630   1.482490e-311   \n",
       "1 2016-01-01         Z305B2QN              ST4000DM000   1.976651e-311   \n",
       "2 2016-01-01   MJ0351YNG9Z7LA  Hitachi HDS5C3030ALA630   1.482490e-311   \n",
       "3 2016-01-01   MJ0351YNGABYAA  Hitachi HDS5C3030ALA630   1.482490e-311   \n",
       "4 2016-01-01  WD-WMC4N2899475             WDC WD30EFRX   1.482490e-311   \n",
       "\n",
       "   failure  smart_1_normalized  smart_1_raw  smart_3_normalized  smart_3_raw  \\\n",
       "0        0                 100            0                 143          540   \n",
       "1        0                 113     54551400                  96            0   \n",
       "2        0                 100            0                 124          566   \n",
       "3        0                 100            0                 137          507   \n",
       "4        0                 200            0                 175         6250   \n",
       "\n",
       "   smart_4_normalized  ...  smart_197_raw  smart_198_normalized  \\\n",
       "0                 100  ...              0                   100   \n",
       "1                 100  ...              0                   100   \n",
       "2                 100  ...              0                   100   \n",
       "3                 100  ...              0                   100   \n",
       "4                 100  ...              0                   100   \n",
       "\n",
       "   smart_198_raw  smart_199_normalized  smart_199_raw  smart_240_raw  \\\n",
       "0              0                   200              0   0.000000e+00   \n",
       "1              0                   200              0  1.319155e-321   \n",
       "2              0                   200              0   0.000000e+00   \n",
       "3              0                   200              0   0.000000e+00   \n",
       "4              0                   200              0   0.000000e+00   \n",
       "\n",
       "   smart_241_raw  smart_242_raw   end_date  date_diff  \n",
       "0   0.000000e+00   0.000000e+00 2016-04-29   119 days  \n",
       "1  3.467963e-315  1.316882e-315 2016-04-29   119 days  \n",
       "2   0.000000e+00   0.000000e+00 2016-04-29   119 days  \n",
       "3   0.000000e+00   0.000000e+00 2016-04-29   119 days  \n",
       "4   0.000000e+00   0.000000e+00 2016-04-29   119 days  \n",
       "\n",
       "[5 rows x 39 columns]"
      ]
     },
     "execution_count": 32,
     "metadata": {},
     "output_type": "execute_result"
    }
   ],
   "source": [
    "df1.head()"
   ]
  },
  {
   "cell_type": "code",
   "execution_count": 14,
   "id": "f518f795",
   "metadata": {},
   "outputs": [
    {
     "data": {
      "text/html": [
       "<div>\n",
       "<style scoped>\n",
       "    .dataframe tbody tr th:only-of-type {\n",
       "        vertical-align: middle;\n",
       "    }\n",
       "\n",
       "    .dataframe tbody tr th {\n",
       "        vertical-align: top;\n",
       "    }\n",
       "\n",
       "    .dataframe thead th {\n",
       "        text-align: right;\n",
       "    }\n",
       "</style>\n",
       "<table border=\"1\" class=\"dataframe\">\n",
       "  <thead>\n",
       "    <tr style=\"text-align: right;\">\n",
       "      <th></th>\n",
       "      <th>capacity_bytes</th>\n",
       "      <th>failure</th>\n",
       "      <th>smart_1_normalized</th>\n",
       "      <th>smart_1_raw</th>\n",
       "      <th>smart_3_normalized</th>\n",
       "      <th>smart_3_raw</th>\n",
       "      <th>smart_4_normalized</th>\n",
       "      <th>smart_4_raw</th>\n",
       "      <th>smart_5_normalized</th>\n",
       "      <th>smart_5_raw</th>\n",
       "      <th>...</th>\n",
       "      <th>smart_197_normalized</th>\n",
       "      <th>smart_197_raw</th>\n",
       "      <th>smart_198_normalized</th>\n",
       "      <th>smart_198_raw</th>\n",
       "      <th>smart_199_normalized</th>\n",
       "      <th>smart_199_raw</th>\n",
       "      <th>smart_240_raw</th>\n",
       "      <th>smart_241_raw</th>\n",
       "      <th>smart_242_raw</th>\n",
       "      <th>date_diff</th>\n",
       "    </tr>\n",
       "  </thead>\n",
       "  <tbody>\n",
       "    <tr>\n",
       "      <th>0</th>\n",
       "      <td>1.482490e-311</td>\n",
       "      <td>0</td>\n",
       "      <td>100</td>\n",
       "      <td>0</td>\n",
       "      <td>143</td>\n",
       "      <td>540</td>\n",
       "      <td>100</td>\n",
       "      <td>14</td>\n",
       "      <td>100</td>\n",
       "      <td>0</td>\n",
       "      <td>...</td>\n",
       "      <td>100</td>\n",
       "      <td>0</td>\n",
       "      <td>100</td>\n",
       "      <td>0</td>\n",
       "      <td>200</td>\n",
       "      <td>0</td>\n",
       "      <td>0.000000e+00</td>\n",
       "      <td>0.000000e+00</td>\n",
       "      <td>0.000000e+00</td>\n",
       "      <td>119 days</td>\n",
       "    </tr>\n",
       "    <tr>\n",
       "      <th>1</th>\n",
       "      <td>1.976651e-311</td>\n",
       "      <td>0</td>\n",
       "      <td>113</td>\n",
       "      <td>54551400</td>\n",
       "      <td>96</td>\n",
       "      <td>0</td>\n",
       "      <td>100</td>\n",
       "      <td>4</td>\n",
       "      <td>100</td>\n",
       "      <td>0</td>\n",
       "      <td>...</td>\n",
       "      <td>100</td>\n",
       "      <td>0</td>\n",
       "      <td>100</td>\n",
       "      <td>0</td>\n",
       "      <td>200</td>\n",
       "      <td>0</td>\n",
       "      <td>1.319155e-321</td>\n",
       "      <td>3.467963e-315</td>\n",
       "      <td>1.316882e-315</td>\n",
       "      <td>119 days</td>\n",
       "    </tr>\n",
       "    <tr>\n",
       "      <th>2</th>\n",
       "      <td>1.482490e-311</td>\n",
       "      <td>0</td>\n",
       "      <td>100</td>\n",
       "      <td>0</td>\n",
       "      <td>124</td>\n",
       "      <td>566</td>\n",
       "      <td>100</td>\n",
       "      <td>19</td>\n",
       "      <td>100</td>\n",
       "      <td>0</td>\n",
       "      <td>...</td>\n",
       "      <td>100</td>\n",
       "      <td>0</td>\n",
       "      <td>100</td>\n",
       "      <td>0</td>\n",
       "      <td>200</td>\n",
       "      <td>0</td>\n",
       "      <td>0.000000e+00</td>\n",
       "      <td>0.000000e+00</td>\n",
       "      <td>0.000000e+00</td>\n",
       "      <td>119 days</td>\n",
       "    </tr>\n",
       "    <tr>\n",
       "      <th>3</th>\n",
       "      <td>1.482490e-311</td>\n",
       "      <td>0</td>\n",
       "      <td>100</td>\n",
       "      <td>0</td>\n",
       "      <td>137</td>\n",
       "      <td>507</td>\n",
       "      <td>100</td>\n",
       "      <td>15</td>\n",
       "      <td>100</td>\n",
       "      <td>0</td>\n",
       "      <td>...</td>\n",
       "      <td>100</td>\n",
       "      <td>0</td>\n",
       "      <td>100</td>\n",
       "      <td>0</td>\n",
       "      <td>200</td>\n",
       "      <td>0</td>\n",
       "      <td>0.000000e+00</td>\n",
       "      <td>0.000000e+00</td>\n",
       "      <td>0.000000e+00</td>\n",
       "      <td>119 days</td>\n",
       "    </tr>\n",
       "    <tr>\n",
       "      <th>4</th>\n",
       "      <td>1.482490e-311</td>\n",
       "      <td>0</td>\n",
       "      <td>200</td>\n",
       "      <td>0</td>\n",
       "      <td>175</td>\n",
       "      <td>6250</td>\n",
       "      <td>100</td>\n",
       "      <td>10</td>\n",
       "      <td>200</td>\n",
       "      <td>0</td>\n",
       "      <td>...</td>\n",
       "      <td>200</td>\n",
       "      <td>0</td>\n",
       "      <td>100</td>\n",
       "      <td>0</td>\n",
       "      <td>200</td>\n",
       "      <td>0</td>\n",
       "      <td>0.000000e+00</td>\n",
       "      <td>0.000000e+00</td>\n",
       "      <td>0.000000e+00</td>\n",
       "      <td>119 days</td>\n",
       "    </tr>\n",
       "  </tbody>\n",
       "</table>\n",
       "<p>5 rows × 35 columns</p>\n",
       "</div>"
      ],
      "text/plain": [
       "   capacity_bytes  failure  smart_1_normalized  smart_1_raw  \\\n",
       "0   1.482490e-311        0                 100            0   \n",
       "1   1.976651e-311        0                 113     54551400   \n",
       "2   1.482490e-311        0                 100            0   \n",
       "3   1.482490e-311        0                 100            0   \n",
       "4   1.482490e-311        0                 200            0   \n",
       "\n",
       "   smart_3_normalized  smart_3_raw  smart_4_normalized  smart_4_raw  \\\n",
       "0                 143          540                 100           14   \n",
       "1                  96            0                 100            4   \n",
       "2                 124          566                 100           19   \n",
       "3                 137          507                 100           15   \n",
       "4                 175         6250                 100           10   \n",
       "\n",
       "   smart_5_normalized  smart_5_raw  ...  smart_197_normalized  smart_197_raw  \\\n",
       "0                 100            0  ...                   100              0   \n",
       "1                 100            0  ...                   100              0   \n",
       "2                 100            0  ...                   100              0   \n",
       "3                 100            0  ...                   100              0   \n",
       "4                 200            0  ...                   200              0   \n",
       "\n",
       "   smart_198_normalized  smart_198_raw  smart_199_normalized  smart_199_raw  \\\n",
       "0                   100              0                   200              0   \n",
       "1                   100              0                   200              0   \n",
       "2                   100              0                   200              0   \n",
       "3                   100              0                   200              0   \n",
       "4                   100              0                   200              0   \n",
       "\n",
       "   smart_240_raw  smart_241_raw  smart_242_raw  date_diff  \n",
       "0   0.000000e+00   0.000000e+00   0.000000e+00   119 days  \n",
       "1  1.319155e-321  3.467963e-315  1.316882e-315   119 days  \n",
       "2   0.000000e+00   0.000000e+00   0.000000e+00   119 days  \n",
       "3   0.000000e+00   0.000000e+00   0.000000e+00   119 days  \n",
       "4   0.000000e+00   0.000000e+00   0.000000e+00   119 days  \n",
       "\n",
       "[5 rows x 35 columns]"
      ]
     },
     "execution_count": 14,
     "metadata": {},
     "output_type": "execute_result"
    }
   ],
   "source": [
    "df1 = df1.drop(['date', 'serial_number', 'model','end_date'], axis=1)\n",
    "df1.head()"
   ]
  },
  {
   "cell_type": "markdown",
   "id": "0b040a7d",
   "metadata": {},
   "source": [
    "# Data Visualizations"
   ]
  },
  {
   "cell_type": "code",
   "execution_count": 31,
   "id": "9d8d3142",
   "metadata": {},
   "outputs": [
    {
     "data": {
      "image/png": "[encoded data removed]",
      "text/plain": [
       "<Figure size 720x432 with 1 Axes>"
      ]
     },
     "metadata": {
      "needs_background": "light"
     },
     "output_type": "display_data"
    },
    {
     "data": {
      "image/png": "[encoded data removed]",
      "text/plain": [
       "<Figure size 720x432 with 1 Axes>"
      ]
     },
     "metadata": {
      "needs_background": "light"
     },
     "output_type": "display_data"
    },
    {
     "data": {
      "image/png": "[encoded data removed]",
      "text/plain": [
       "<Figure size 720x432 with 1 Axes>"
      ]
     },
     "metadata": {
      "needs_background": "light"
     },
     "output_type": "display_data"
    }
   ],
   "source": [
    "import matplotlib.pyplot as plt\n",
    "import seaborn as sns\n",
    "\n",
    "# Histogram of date_diff\n",
    "plt.figure(figsize=(10, 6))\n",
    "sns.histplot(df1['date_diff'].dt.days, bins=30, kde=True, color='blue')\n",
    "plt.title('Distribution of Date Differences')\n",
    "plt.xlabel('Date Difference (days)')\n",
    "plt.ylabel('Frequency')\n",
    "plt.show()\n",
    "\n",
    "# Box plot of date_diff\n",
    "plt.figure(figsize=(10, 6))\n",
    "sns.boxplot(y=df1['date_diff'].dt.days)\n",
    "plt.title('Box Plot of Date Differences')\n",
    "plt.ylabel('Date Difference (days)')\n",
    "plt.show()\n",
    "\n",
    "# Scatter plot of capacity_bytes against date_diff\n",
    "plt.figure(figsize=(10, 6))\n",
    "plt.scatter(df1['date_diff'].dt.days, df1['capacity_bytes'])\n",
    "plt.title('Scatter Plot of Date Difference against Capacity Bytes')\n",
    "plt.xlabel('Date Difference (days)')\n",
    "plt.ylabel('Capacity Bytes')\n",
    "plt.show()"
   ]
  },
  {
   "cell_type": "markdown",
   "id": "230c67ac",
   "metadata": {},
   "source": [
    "Splitting the data"
   ]
  },
  {
   "cell_type": "code",
   "execution_count": 15,
   "id": "ece437c3",
   "metadata": {},
   "outputs": [],
   "source": [
    "y = df1[\"date_diff\"].dt.days\n",
    "X = df1.drop([\"date_diff\"],axis=1)"
   ]
  },
  {
   "cell_type": "code",
   "execution_count": 16,
   "id": "b1e8e82b",
   "metadata": {},
   "outputs": [
    {
     "name": "stdout",
     "output_type": "stream",
     "text": [
      "Shape of training set: (2509253, 34)\n",
      "Shape of validation set: (313657, 34)\n",
      "Shape of test set: (313657, 34)\n"
     ]
    }
   ],
   "source": [
    "# Split the data into train, validation, and test sets (80%, 10%, 10%)\n",
    "X_train, X_temp, y_train, y_temp = train_test_split(X, y, test_size=0.2, random_state=42)\n",
    "X_val, X_test, y_val, y_test = train_test_split(X_temp, y_temp, test_size=0.5, random_state=42)\n",
    "\n",
    "print(\"Shape of training set:\", X_train.shape)\n",
    "print(\"Shape of validation set:\", X_val.shape)\n",
    "print(\"Shape of test set:\", X_test.shape)"
   ]
  },
  {
   "cell_type": "code",
   "execution_count": 19,
   "id": "1163b4dd",
   "metadata": {},
   "outputs": [],
   "source": [
    "# Define DataLoader for training and validation data\n",
    "train_dataset = TensorDataset(X_train_tensor, X_train_tensor)\n",
    "val_dataset = TensorDataset(X_val_tensor, X_val_tensor)\n",
    "train_loader = DataLoader(train_dataset, batch_size=128, shuffle=True)\n",
    "val_loader = DataLoader(val_dataset, batch_size=128)\n",
    "\n"
   ]
  },
  {
   "cell_type": "markdown",
   "id": "ee589b02",
   "metadata": {},
   "source": [
    "# Training the Data"
   ]
  },
  {
   "cell_type": "code",
   "execution_count": 21,
   "id": "90a3f59a",
   "metadata": {},
   "outputs": [
    {
     "name": "stdout",
     "output_type": "stream",
     "text": [
      "Epoch 1/10, Train Loss: 0.635800, Val Loss: 0.684032\n",
      "Epoch 2/10, Train Loss: 0.631771, Val Loss: 0.683847\n",
      "Epoch 3/10, Train Loss: 0.631601, Val Loss: 0.683814\n",
      "Epoch 4/10, Train Loss: 0.631550, Val Loss: 0.683741\n",
      "Epoch 5/10, Train Loss: 0.631566, Val Loss: 0.684094\n",
      "Epoch 6/10, Train Loss: 0.631494, Val Loss: 0.683716\n",
      "Epoch 7/10, Train Loss: 0.631430, Val Loss: 0.684248\n",
      "Epoch 8/10, Train Loss: 0.631509, Val Loss: 0.683689\n",
      "Epoch 9/10, Train Loss: 0.631368, Val Loss: 0.683719\n",
      "Epoch 10/10, Train Loss: 0.631438, Val Loss: 0.684083\n",
      "Epoch 1/10, Train Loss: 0.631216, Val Loss: 0.680113\n",
      "Epoch 2/10, Train Loss: 0.627582, Val Loss: 0.679939\n",
      "Epoch 3/10, Train Loss: 0.626692, Val Loss: 0.678983\n",
      "Epoch 4/10, Train Loss: 0.626478, Val Loss: 0.679211\n",
      "Epoch 5/10, Train Loss: 0.626383, Val Loss: 0.678970\n",
      "Epoch 6/10, Train Loss: 0.626327, Val Loss: 0.678986\n",
      "Epoch 7/10, Train Loss: 0.626253, Val Loss: 0.678904\n",
      "Epoch 8/10, Train Loss: 0.626215, Val Loss: 0.678946\n",
      "Epoch 9/10, Train Loss: 0.626185, Val Loss: 0.678871\n",
      "Epoch 10/10, Train Loss: 0.626149, Val Loss: 0.678909\n",
      "Epoch 1/10, Train Loss: 0.672255, Val Loss: 0.720199\n",
      "Epoch 2/10, Train Loss: 0.668474, Val Loss: 0.719302\n",
      "Epoch 3/10, Train Loss: 0.668173, Val Loss: 0.719249\n",
      "Epoch 4/10, Train Loss: 0.667952, Val Loss: 0.719117\n",
      "Epoch 5/10, Train Loss: 0.667952, Val Loss: 0.719431\n",
      "Epoch 6/10, Train Loss: 0.668049, Val Loss: 0.719446\n",
      "Epoch 7/10, Train Loss: 0.668085, Val Loss: 0.719521\n",
      "Early stopping! No improvement in validation loss.\n"
     ]
    },
    {
     "data": {
      "image/png": "[encoded data removed]",
      "text/plain": [
       "<Figure size 720x360 with 1 Axes>"
      ]
     },
     "metadata": {
      "needs_background": "light"
     },
     "output_type": "display_data"
    },
    {
     "ename": "AttributeError",
     "evalue": "'list' object has no attribute 'to'",
     "output_type": "error",
     "traceback": [
      "\u001b[1;31m---------------------------------------------------------------------------\u001b[0m",
      "\u001b[1;31mAttributeError\u001b[0m                            Traceback (most recent call last)",
      "Input \u001b[1;32mIn [21]\u001b[0m, in \u001b[0;36m<cell line: 204>\u001b[1;34m()\u001b[0m\n\u001b[0;32m    202\u001b[0m test_dataset \u001b[38;5;241m=\u001b[39m TensorDataset(X_test_tensor, X_test_tensor)\n\u001b[0;32m    203\u001b[0m test_loader \u001b[38;5;241m=\u001b[39m DataLoader(test_dataset, batch_size\u001b[38;5;241m=\u001b[39m\u001b[38;5;241m128\u001b[39m)\n\u001b[1;32m--> 204\u001b[0m loss_autoencoder1 \u001b[38;5;241m=\u001b[39m \u001b[43mevaluate\u001b[49m\u001b[43m(\u001b[49m\u001b[43mautoencoder1\u001b[49m\u001b[43m,\u001b[49m\u001b[43m \u001b[49m\u001b[43mtest_loader\u001b[49m\u001b[43m)\u001b[49m\n\u001b[0;32m    205\u001b[0m loss_autoencoder2 \u001b[38;5;241m=\u001b[39m evaluate(autoencoder2, test_loader)\n\u001b[0;32m    206\u001b[0m loss_autoencoder3 \u001b[38;5;241m=\u001b[39m evaluate(autoencoder3, test_loader)\n",
      "Input \u001b[1;32mIn [21]\u001b[0m, in \u001b[0;36mevaluate\u001b[1;34m(model, test_loader)\u001b[0m\n\u001b[0;32m    193\u001b[0m \u001b[38;5;28;01mwith\u001b[39;00m torch\u001b[38;5;241m.\u001b[39mno_grad():\n\u001b[0;32m    194\u001b[0m     \u001b[38;5;28;01mfor\u001b[39;00m data \u001b[38;5;129;01min\u001b[39;00m test_loader:\n\u001b[1;32m--> 195\u001b[0m         inputs \u001b[38;5;241m=\u001b[39m \u001b[43mdata\u001b[49m\u001b[38;5;241;43m.\u001b[39;49m\u001b[43mto\u001b[49m(device)\n\u001b[0;32m    196\u001b[0m         outputs \u001b[38;5;241m=\u001b[39m model(inputs)\n\u001b[0;32m    197\u001b[0m         loss \u001b[38;5;241m=\u001b[39m criterion(outputs, inputs)\n",
      "\u001b[1;31mAttributeError\u001b[0m: 'list' object has no attribute 'to'"
     ]
    }
   ],
   "source": [
    "import torch\n",
    "import torch.nn as nn\n",
    "import torch.optim as optim\n",
    "from torch.utils.data import DataLoader, TensorDataset\n",
    "from sklearn.preprocessing import StandardScaler\n",
    "import numpy as np\n",
    "import matplotlib.pyplot as plt\n",
    "\n",
    "# Scale the data\n",
    "scaler = StandardScaler()\n",
    "X_train_scaled = scaler.fit_transform(X_train)\n",
    "X_val_scaled = scaler.transform(X_val)\n",
    "X_test_scaled = scaler.transform(X_test)\n",
    "\n",
    "# Convert data to PyTorch tensors\n",
    "X_train_tensor = torch.tensor(X_train_scaled, dtype=torch.float32)\n",
    "X_val_tensor = torch.tensor(X_val_scaled, dtype=torch.float32)\n",
    "X_test_tensor = torch.tensor(X_test_scaled, dtype=torch.float32)\n",
    "\n",
    "# Define Autoencoder architectures in PyTorch\n",
    "class Autoencoder1(nn.Module):\n",
    "    def __init__(self, input_dim):\n",
    "        super(Autoencoder1, self).__init__()\n",
    "        self.encoder = nn.Sequential(\n",
    "            nn.Linear(input_dim, 64),\n",
    "            nn.ReLU(),\n",
    "            nn.Dropout(0.2),\n",
    "            nn.Linear(64, 32),\n",
    "            nn.ReLU(),\n",
    "            nn.Dropout(0.2)\n",
    "        )\n",
    "        self.decoder = nn.Sequential(\n",
    "            nn.Linear(32, 64),\n",
    "            nn.ReLU(),\n",
    "            nn.Dropout(0.2),\n",
    "            nn.Linear(64, input_dim),\n",
    "            nn.Sigmoid()\n",
    "        )\n",
    "\n",
    "    def forward(self, x):\n",
    "        x = self.encoder(x)\n",
    "        x = self.decoder(x)\n",
    "        return x\n",
    "\n",
    "class Autoencoder2(nn.Module):\n",
    "    def __init__(self, input_dim):\n",
    "        super(Autoencoder2, self).__init__()\n",
    "        self.encoder = nn.Sequential(\n",
    "            nn.Linear(input_dim, 128),\n",
    "            nn.ReLU(),\n",
    "            nn.BatchNorm1d(128),\n",
    "            nn.Linear(128, 64),\n",
    "            nn.ReLU(),\n",
    "            nn.Dropout(0.2),\n",
    "            nn.Linear(64, 32),\n",
    "            nn.ReLU(),\n",
    "        )\n",
    "        self.decoder = nn.Sequential(\n",
    "            nn.Linear(32, 64),\n",
    "            nn.ReLU(),\n",
    "            nn.Dropout(0.2),\n",
    "            nn.Linear(64, 128),\n",
    "            nn.ReLU(),\n",
    "            nn.BatchNorm1d(128),\n",
    "            nn.Linear(128, input_dim),\n",
    "            nn.Sigmoid()\n",
    "        )\n",
    "\n",
    "    def forward(self, x):\n",
    "        x = self.encoder(x)\n",
    "        x = self.decoder(x)\n",
    "        return x\n",
    "\n",
    "class Autoencoder3(nn.Module):\n",
    "    def __init__(self, input_dim):\n",
    "        super(Autoencoder3, self).__init__()\n",
    "        self.encoder = nn.Sequential(\n",
    "            nn.Linear(input_dim, 32),\n",
    "            nn.ReLU(),\n",
    "            nn.Dropout(0.2),\n",
    "            nn.Linear(32, 16),\n",
    "            nn.ReLU(),\n",
    "            nn.Dropout(0.2),\n",
    "            nn.Linear(16, 8),\n",
    "            nn.ReLU(),\n",
    "            nn.Dropout(0.2),\n",
    "        )\n",
    "        self.decoder = nn.Sequential(\n",
    "            nn.Linear(8, 16),\n",
    "            nn.ReLU(),\n",
    "            nn.Dropout(0.2),\n",
    "            nn.Linear(16, 32),\n",
    "            nn.ReLU(),\n",
    "            nn.Dropout(0.2),\n",
    "            nn.Linear(32, input_dim),\n",
    "            nn.Sigmoid()\n",
    "        )\n",
    "\n",
    "    def forward(self, x):\n",
    "        x = self.encoder(x)\n",
    "        x = self.decoder(x)\n",
    "        return x\n",
    "\n",
    "# Instantiate Autoencoder models\n",
    "autoencoder1 = Autoencoder1(X_train_tensor.shape[1])\n",
    "autoencoder2 = Autoencoder2(X_train_tensor.shape[1])\n",
    "autoencoder3 = Autoencoder3(X_train_tensor.shape[1])\n",
    "\n",
    "# Define optimizer and loss function\n",
    "criterion = nn.MSELoss()\n",
    "\n",
    "# Train Autoencoder models\n",
    "def train(model, criterion, train_loader, val_loader, patience=3, num_epochs=10):\n",
    "    device = torch.device(\"cuda\" if torch.cuda.is_available() else \"cpu\")\n",
    "    model.to(device)\n",
    "    optimizer = optim.Adam(model.parameters(), lr=0.001)\n",
    "    best_val_loss = float('inf')\n",
    "    no_improvement = 0  # Counter for the number of epochs with no improvement\n",
    "    train_losses = []\n",
    "    val_losses = []\n",
    "    for epoch in range(num_epochs):\n",
    "        model.train()\n",
    "        train_loss = 0.0\n",
    "        for inputs, _ in train_loader:\n",
    "            inputs = inputs.to(device)\n",
    "            optimizer.zero_grad()\n",
    "            outputs = model(inputs)\n",
    "            loss = criterion(outputs, inputs)\n",
    "            loss.backward()\n",
    "            optimizer.step()\n",
    "            train_loss += loss.item() * inputs.size(0)\n",
    "\n",
    "        train_loss /= len(train_loader.dataset)\n",
    "        train_losses.append(train_loss)\n",
    "        \n",
    "        # Validation\n",
    "        model.eval()\n",
    "        val_loss = 0.0\n",
    "        with torch.no_grad():\n",
    "            for inputs, _ in val_loader:\n",
    "                inputs = inputs.to(device)\n",
    "                outputs = model(inputs)\n",
    "                loss = criterion(outputs, inputs)\n",
    "                val_loss += loss.item() * inputs.size(0)\n",
    "        val_loss /= len(val_loader.dataset)\n",
    "        val_losses.append(val_loss)\n",
    "\n",
    "        print(f\"Epoch {epoch+1}/{num_epochs}, Train Loss: {train_loss:.6f}, Val Loss: {val_loss:.6f}\")\n",
    "        \n",
    "        # Check for early stopping\n",
    "        if val_loss < best_val_loss:\n",
    "            best_val_loss = val_loss\n",
    "            no_improvement = 0\n",
    "            torch.save(model.state_dict(), f'best_model_{model.__class__.__name__}.pth')  # Save the best model\n",
    "        else:\n",
    "            no_improvement += 1\n",
    "            if no_improvement >= patience:\n",
    "                print(\"Early stopping! No improvement in validation loss.\")\n",
    "                break\n",
    "                \n",
    "    return train_losses, val_losses\n",
    "\n",
    "# Convert data to DataLoader\n",
    "train_dataset = TensorDataset(X_train_tensor, X_train_tensor)\n",
    "val_dataset = TensorDataset(X_val_tensor, X_val_tensor)\n",
    "train_loader = DataLoader(train_dataset, batch_size=128, shuffle=True)\n",
    "val_loader = DataLoader(val_dataset, batch_size=128)\n",
    "\n",
    "# Train Autoencoder models and save their histories\n",
    "history_autoencoder1 = train(autoencoder1, criterion, train_loader, val_loader)\n",
    "history_autoencoder2 = train(autoencoder2, criterion, train_loader, val_loader)\n",
    "history_autoencoder3 = train(autoencoder3, criterion, train_loader, val_loader)\n",
    "\n",
    "# Plot training and validation losses\n",
    "plt.figure(figsize=(10, 5))\n",
    "plt.plot(history_autoencoder1[0], label='Autoencoder1 Train Loss')\n",
    "plt.plot(history_autoencoder1[1], label='Autoencoder1 Validation Loss')\n",
    "plt.plot(history_autoencoder2[0], label='Autoencoder2 Train Loss')\n",
    "plt.plot(history_autoencoder2[1], label='Autoencoder2 Validation Loss')\n",
    "plt.plot(history_autoencoder3[0], label='Autoencoder3 Train Loss')\n",
    "plt.plot(history_autoencoder3[1], label='Autoencoder3 Validation Loss')\n",
    "plt.xlabel('Epoch')\n",
    "plt.ylabel('Loss')\n",
    "plt.title('Training and Validation Losses for Autoencoders')\n",
    "plt.legend()\n",
    "plt.show()\n",
    "\n",
    "# Evaluate Autoencoder models\n",
    "def evaluate(model, test_loader):\n",
    "    model.eval()\n",
    "    test_loss = 0.0\n",
    "    device = torch.device(\"cuda\" if torch.cuda.is_available() else \"cpu\")\n",
    "    with torch.no_grad():\n",
    "        for data in test_loader:\n",
    "            inputs = data.to(device)\n",
    "            outputs = model(inputs)\n",
    "            loss = criterion(outputs, inputs)\n",
    "            test_loss += loss.item() * inputs.size(0)\n",
    "    test_loss /= len(test_loader.dataset)\n",
    "    return test_loss\n",
    "\n",
    "test_dataset = TensorDataset(X_test_tensor, X_test_tensor)\n",
    "test_loader = DataLoader(test_dataset, batch_size=128)\n",
    "loss_autoencoder1 = evaluate(autoencoder1, test_loader)\n",
    "loss_autoencoder2 = evaluate(autoencoder2, test_loader)\n",
    "loss_autoencoder3 = evaluate(autoencoder3, test_loader)\n",
    "\n",
    "print(f\"Autoencoder 1 Test Loss: {loss_autoencoder1:.6f}\")\n",
    "print(f\"Autoencoder 2 Test Loss: {loss_autoencoder2:.6f}\")\n",
    "print(f\"Autoencoder 3 Test Loss: {loss_autoencoder3:.6f}\")\n"
   ]
  },
  {
   "cell_type": "markdown",
   "id": "5b3c4f60",
   "metadata": {},
   "source": [
    "# Evaluating the Data"
   ]
  },
  {
   "cell_type": "code",
   "execution_count": 22,
   "id": "f1868a0b",
   "metadata": {},
   "outputs": [
    {
     "name": "stdout",
     "output_type": "stream",
     "text": [
      "Autoencoder 1 Test Loss: 0.652068\n",
      "Autoencoder 2 Test Loss: 0.647172\n",
      "Autoencoder 3 Test Loss: 0.687918\n"
     ]
    }
   ],
   "source": [
    "# Evaluate Autoencoder models\n",
    "def evaluate(model, test_loader):\n",
    "    model.eval()\n",
    "    device = torch.device(\"cuda\" if torch.cuda.is_available() else \"cpu\")\n",
    "    test_loss = 0.0\n",
    "    with torch.no_grad():\n",
    "        for data in test_loader:\n",
    "            inputs = data[0].to(device)  # Extract input data from the list\n",
    "            outputs = model(inputs)\n",
    "            loss = criterion(outputs, inputs)\n",
    "            test_loss += loss.item() * inputs.size(0)\n",
    "    test_loss /= len(test_loader.dataset)\n",
    "    return test_loss\n",
    "\n",
    "test_dataset = TensorDataset(X_test_tensor, X_test_tensor)\n",
    "test_loader = DataLoader(test_dataset, batch_size=128)\n",
    "loss_autoencoder1 = evaluate(autoencoder1, test_loader)\n",
    "loss_autoencoder2 = evaluate(autoencoder2, test_loader)\n",
    "loss_autoencoder3 = evaluate(autoencoder3, test_loader)\n",
    "\n",
    "print(f\"Autoencoder 1 Test Loss: {loss_autoencoder1:.6f}\")\n",
    "print(f\"Autoencoder 2 Test Loss: {loss_autoencoder2:.6f}\")\n",
    "print(f\"Autoencoder 3 Test Loss: {loss_autoencoder3:.6f}\")"
   ]
  },
  {
   "cell_type": "code",
   "execution_count": 25,
   "id": "8e5f455e",
   "metadata": {},
   "outputs": [
    {
     "name": "stdout",
     "output_type": "stream",
     "text": [
      "Reconstruction Errors Statistics:\n",
      "Autoencoder 1 - Mean: 0.6520683 Std Dev: 24.402441\n",
      "Autoencoder 2 - Mean: 0.6471717 Std Dev: 24.272675\n",
      "Autoencoder 3 - Mean: 0.6879178 Std Dev: 24.417933\n"
     ]
    }
   ],
   "source": [
    "# Define a function to calculate reconstruction errors\n",
    "def calculate_reconstruction_errors(model, data_loader):\n",
    "    model.eval()\n",
    "    device = torch.device(\"cuda\" if torch.cuda.is_available() else \"cpu\")\n",
    "    reconstruction_errors = []\n",
    "    with torch.no_grad():\n",
    "        for data in data_loader:\n",
    "            inputs = data[0].to(device)  # Extract input data from the list\n",
    "            outputs = model(inputs)\n",
    "            reconstruction_error = torch.mean((outputs - inputs)**2, dim=1).cpu().numpy()\n",
    "            reconstruction_errors.extend(reconstruction_error)\n",
    "    return reconstruction_errors\n",
    "\n",
    "# Calculate reconstruction errors for each autoencoder model\n",
    "reconstruction_errors_autoencoder1 = calculate_reconstruction_errors(autoencoder1, test_loader)\n",
    "reconstruction_errors_autoencoder2 = calculate_reconstruction_errors(autoencoder2, test_loader)\n",
    "reconstruction_errors_autoencoder3 = calculate_reconstruction_errors(autoencoder3, test_loader)\n",
    "\n",
    "# Print reconstruction errors statistics for each autoencoder\n",
    "print(\"Reconstruction Errors Statistics:\")\n",
    "print(\"Autoencoder 1 - Mean:\", np.mean(reconstruction_errors_autoencoder1), \"Std Dev:\", np.std(reconstruction_errors_autoencoder1))\n",
    "print(\"Autoencoder 2 - Mean:\", np.mean(reconstruction_errors_autoencoder2), \"Std Dev:\", np.std(reconstruction_errors_autoencoder2))\n",
    "print(\"Autoencoder 3 - Mean:\", np.mean(reconstruction_errors_autoencoder3), \"Std Dev:\", np.std(reconstruction_errors_autoencoder3))\n"
   ]
  },
  {
   "cell_type": "markdown",
   "id": "096a25be",
   "metadata": {},
   "source": [
    "# Data output visualizations"
   ]
  },
  {
   "cell_type": "markdown",
   "id": "e94fa7e2",
   "metadata": {},
   "source": [
    "Comparing the Models"
   ]
  },
  {
   "cell_type": "code",
   "execution_count": 29,
   "id": "fc83a81c",
   "metadata": {},
   "outputs": [
    {
     "data": {
      "image/png": "[encoded data removed]",
      "text/plain": [
       "<Figure size 720x576 with 2 Axes>"
      ]
     },
     "metadata": {
      "needs_background": "light"
     },
     "output_type": "display_data"
    },
    {
     "data": {
      "image/png": "[encoded data removed]",
      "text/plain": [
       "<Figure size 720x576 with 2 Axes>"
      ]
     },
     "metadata": {
      "needs_background": "light"
     },
     "output_type": "display_data"
    },
    {
     "data": {
      "image/png": "[encoded data removed]",
      "text/plain": [
       "<Figure size 720x576 with 2 Axes>"
      ]
     },
     "metadata": {
      "needs_background": "light"
     },
     "output_type": "display_data"
    }
   ],
   "source": [
    "from sklearn.decomposition import PCA\n",
    "from sklearn.manifold import TSNE\n",
    "\n",
    "def visualize_latent_space(model, data_loader, targets, title):\n",
    "    device = next(model.parameters()).device\n",
    "    model.eval()\n",
    "    encoded_data = []\n",
    "    with torch.no_grad():\n",
    "        for inputs, _ in data_loader:\n",
    "            inputs = inputs.to(device)\n",
    "            encoded_output = model.encoder(inputs)\n",
    "            encoded_data.append(encoded_output.cpu().numpy())\n",
    "    encoded_data = np.concatenate(encoded_data, axis=0)\n",
    "    if encoded_data.shape[1] > 2:\n",
    "        # If the latent space dimensionality is greater than 2, reduce it using PCA or t-SNE\n",
    "        latent_representation = PCA(n_components=2).fit_transform(encoded_data)\n",
    "        # latent_representation = TSNE(n_components=2).fit_transform(encoded_data)\n",
    "    else:\n",
    "        latent_representation = encoded_data\n",
    "    plt.figure(figsize=(10, 8))\n",
    "    plt.scatter(latent_representation[:, 0], latent_representation[:, 1], c=targets, cmap='tab10', alpha=0.5)\n",
    "    plt.title(title)\n",
    "    plt.xlabel('Latent Dimension 1')\n",
    "    plt.ylabel('Latent Dimension 2')\n",
    "    plt.colorbar()\n",
    "    plt.show()\n",
    "\n",
    "# Visualize latent space representations\n",
    "visualize_latent_space(autoencoder1, test_loader, y_test, 'Autoencoder 1 Latent Space')\n",
    "visualize_latent_space(autoencoder2, test_loader, y_test, 'Autoencoder 2 Latent Space')\n",
    "visualize_latent_space(autoencoder3, test_loader, y_test, 'Autoencoder 3 Latent Space')\n"
   ]
  },
  {
   "cell_type": "code",
   "execution_count": 30,
   "id": "86486fbf",
   "metadata": {},
   "outputs": [
    {
     "data": {
      "image/png": "[encoded data removed]",
      "text/plain": [
       "<Figure size 720x432 with 1 Axes>"
      ]
     },
     "metadata": {
      "needs_background": "light"
     },
     "output_type": "display_data"
    }
   ],
   "source": [
    "import matplotlib.pyplot as plt\n",
    "\n",
    "# Test losses of the three autoencoder models\n",
    "losses = [loss_autoencoder1, loss_autoencoder2, loss_autoencoder3]\n",
    "models = ['Autoencoder 1', 'Autoencoder 2', 'Autoencoder 3']\n",
    "\n",
    "# Create bar graph\n",
    "plt.figure(figsize=(10, 6))\n",
    "plt.bar(models, losses, color=['blue', 'green', 'orange'])\n",
    "plt.title('Test Losses of Autoencoder Models')\n",
    "plt.xlabel('Autoencoder Models')\n",
    "plt.ylabel('Test Loss')\n",
    "plt.show()\n"
   ]
  },
  {
   "cell_type": "markdown",
   "id": "e23c987f",
   "metadata": {},
   "source": [
    "Reconstruction Errors"
   ]
  },
  {
   "cell_type": "code",
   "execution_count": 28,
   "id": "44ff8d51",
   "metadata": {},
   "outputs": [
    {
     "name": "stdout",
     "output_type": "stream",
     "text": [
      "Summary Statistics of Reconstruction Errors for Autoencoder 1:\n",
      "Mean: 0.6520683\n",
      "Median: 0.10480258\n",
      "Maximum: 3881.413\n",
      "Minimum: 0.038602497\n",
      "Standard Deviation: 24.402441\n",
      "\n",
      "Summary Statistics of Reconstruction Errors for Autoencoder 2:\n",
      "Mean: 0.6471717\n",
      "Median: 0.10472429\n",
      "Maximum: 3866.0828\n",
      "Minimum: 0.038480666\n",
      "Standard Deviation: 24.272675\n",
      "\n",
      "Summary Statistics of Reconstruction Errors for Autoencoder 3:\n",
      "Mean: 0.6879178\n",
      "Median: 0.13882816\n",
      "Maximum: 3877.9902\n",
      "Minimum: 0.039717235\n",
      "Standard Deviation: 24.417933\n"
     ]
    }
   ],
   "source": [
    "# Print summary statistics of reconstruction errors for each autoencoder model\n",
    "print(\"Summary Statistics of Reconstruction Errors for Autoencoder 1:\")\n",
    "print(\"Mean:\", np.mean(reconstruction_errors_autoencoder1))\n",
    "print(\"Median:\", np.median(reconstruction_errors_autoencoder1))\n",
    "print(\"Maximum:\", np.max(reconstruction_errors_autoencoder1))\n",
    "print(\"Minimum:\", np.min(reconstruction_errors_autoencoder1))\n",
    "print(\"Standard Deviation:\", np.std(reconstruction_errors_autoencoder1))\n",
    "\n",
    "print(\"\\nSummary Statistics of Reconstruction Errors for Autoencoder 2:\")\n",
    "print(\"Mean:\", np.mean(reconstruction_errors_autoencoder2))\n",
    "print(\"Median:\", np.median(reconstruction_errors_autoencoder2))\n",
    "print(\"Maximum:\", np.max(reconstruction_errors_autoencoder2))\n",
    "print(\"Minimum:\", np.min(reconstruction_errors_autoencoder2))\n",
    "print(\"Standard Deviation:\", np.std(reconstruction_errors_autoencoder2))\n",
    "\n",
    "print(\"\\nSummary Statistics of Reconstruction Errors for Autoencoder 3:\")\n",
    "print(\"Mean:\", np.mean(reconstruction_errors_autoencoder3))\n",
    "print(\"Median:\", np.median(reconstruction_errors_autoencoder3))\n",
    "print(\"Maximum:\", np.max(reconstruction_errors_autoencoder3))\n",
    "print(\"Minimum:\", np.min(reconstruction_errors_autoencoder3))\n",
    "print(\"Standard Deviation:\", np.std(reconstruction_errors_autoencoder3))\n"
   ]
  },
  {
   "cell_type": "markdown",
   "id": "8e536942",
   "metadata": {},
   "source": [
    "Anomaly detection"
   ]
  },
  {
   "cell_type": "code",
   "execution_count": 32,
   "id": "8ccd5ef1",
   "metadata": {},
   "outputs": [
    {
     "name": "stdout",
     "output_type": "stream",
     "text": [
      "Anomaly Detection Accuracy for Autoencoder 1: 0.8919\n",
      "Anomaly Detection Accuracy for Autoencoder 2: 0.8913\n",
      "Anomaly Detection Accuracy for Autoencoder 3: 0.9148\n"
     ]
    }
   ],
   "source": [
    "import numpy as np\n",
    "\n",
    "def calculate_anomaly_detection_accuracy(reconstruction_errors, threshold):\n",
    "    # Convert reconstruction errors to numpy array\n",
    "    reconstruction_errors = np.array(reconstruction_errors)\n",
    "    \n",
    "    # Convert reconstruction errors to binary labels (1 for anomaly, 0 for normal)\n",
    "    predictions = np.where(reconstruction_errors > threshold, 1, 0)\n",
    "    \n",
    "    # Calculate anomaly detection accuracy as the percentage of anomalies\n",
    "    accuracy = np.mean(predictions)\n",
    "    \n",
    "    return accuracy\n",
    "\n",
    "\n",
    "# Set a threshold for reconstruction error\n",
    "threshold = 0.05\n",
    "\n",
    "# Calculate anomaly detection accuracy for each autoencoder model\n",
    "accuracy_autoencoder1 = calculate_anomaly_detection_accuracy(reconstruction_errors_autoencoder1, threshold)\n",
    "accuracy_autoencoder2 = calculate_anomaly_detection_accuracy(reconstruction_errors_autoencoder2, threshold)\n",
    "accuracy_autoencoder3 = calculate_anomaly_detection_accuracy(reconstruction_errors_autoencoder3, threshold)\n",
    "\n",
    "print(f\"Anomaly Detection Accuracy for Autoencoder 1: {accuracy_autoencoder1:.4f}\")\n",
    "print(f\"Anomaly Detection Accuracy for Autoencoder 2: {accuracy_autoencoder2:.4f}\")\n",
    "print(f\"Anomaly Detection Accuracy for Autoencoder 3: {accuracy_autoencoder3:.4f}\")\n"
   ]
  },
  {
   "cell_type": "code",
   "execution_count": 35,
   "id": "48273add",
   "metadata": {},
   "outputs": [
    {
     "data": {
      "image/png": "[encoded data removed]",
      "text/plain": [
       "<Figure size 720x360 with 1 Axes>"
      ]
     },
     "metadata": {
      "needs_background": "light"
     },
     "output_type": "display_data"
    }
   ],
   "source": [
    "# Plot training and validation losses\n",
    "plt.figure(figsize=(10, 5))\n",
    "plt.plot(history_autoencoder1[0], label='Autoencoder1 Train Loss')\n",
    "plt.plot(history_autoencoder1[1], label='Autoencoder1 Validation Loss')\n",
    "plt.plot(history_autoencoder2[0], label='Autoencoder2 Train Loss')\n",
    "plt.plot(history_autoencoder2[1], label='Autoencoder2 Validation Loss')\n",
    "plt.plot(history_autoencoder3[0], label='Autoencoder3 Train Loss')\n",
    "plt.plot(history_autoencoder3[1], label='Autoencoder3 Validation Loss')\n",
    "plt.xlabel('Epoch')\n",
    "plt.ylabel('Loss')\n",
    "plt.title('Training and Validation Losses for Autoencoders')\n",
    "plt.legend()\n",
    "plt.show()"
   ]
  },
  {
   "cell_type": "markdown",
   "id": "266eca72",
   "metadata": {},
   "source": [
    "Confusion Matrices"
   ]
  },
  {
   "cell_type": "code",
   "execution_count": 40,
   "id": "7b0dec76",
   "metadata": {},
   "outputs": [
    {
     "data": {
      "image/png": "[encoded data removed]",
      "text/plain": [
       "<Figure size 1080x360 with 3 Axes>"
      ]
     },
     "metadata": {
      "needs_background": "light"
     },
     "output_type": "display_data"
    }
   ],
   "source": [
    "import numpy as np\n",
    "from sklearn.metrics import confusion_matrix\n",
    "import matplotlib.pyplot as plt\n",
    "import seaborn as sns\n",
    "\n",
    "# Determine anomaly threshold based on the reconstruction error\n",
    "threshold_autoencoder1 = np.percentile(reconstruction_errors_autoencoder1, 95)  \n",
    "threshold_autoencoder2 = np.percentile(reconstruction_errors_autoencoder2, 95)\n",
    "threshold_autoencoder3 = np.percentile(reconstruction_errors_autoencoder3, 95)\n",
    "\n",
    "# Classify samples as normal (0) or anomalous (1) based on the threshold\n",
    "predicted_anomalies_autoencoder1 = (reconstruction_errors_autoencoder1 > threshold_autoencoder1).astype(int)\n",
    "predicted_anomalies_autoencoder2 = (reconstruction_errors_autoencoder2 > threshold_autoencoder2).astype(int)\n",
    "predicted_anomalies_autoencoder3 = (reconstruction_errors_autoencoder3 > threshold_autoencoder3).astype(int)\n",
    "\n",
    "# Calculate confusion matrix\n",
    "cm_autoencoder1 = confusion_matrix(predicted_anomalies_autoencoder1, predicted_anomalies_autoencoder1)\n",
    "cm_autoencoder2 = confusion_matrix(predicted_anomalies_autoencoder2, predicted_anomalies_autoencoder2)\n",
    "cm_autoencoder3 = confusion_matrix(predicted_anomalies_autoencoder3, predicted_anomalies_autoencoder3)\n",
    "\n",
    "# Plot confusion matrix\n",
    "plt.figure(figsize=(15, 5))\n",
    "\n",
    "plt.subplot(1, 3, 1)\n",
    "sns.heatmap(cm_autoencoder1, annot=True, cmap='Blues', fmt='g', cbar=False)\n",
    "plt.title(\"Confusion Matrix - Autoencoder 1\")\n",
    "plt.xlabel(\"Predicted Label\")\n",
    "plt.ylabel(\"True Label\")\n",
    "\n",
    "plt.subplot(1, 3, 2)\n",
    "sns.heatmap(cm_autoencoder2, annot=True, cmap='Blues', fmt='g', cbar=False)\n",
    "plt.title(\"Confusion Matrix - Autoencoder 2\")\n",
    "plt.xlabel(\"Predicted Label\")\n",
    "plt.ylabel(\"True Label\")\n",
    "\n",
    "plt.subplot(1, 3, 3)\n",
    "sns.heatmap(cm_autoencoder3, annot=True, cmap='Blues', fmt='g', cbar=False)\n",
    "plt.title(\"Confusion Matrix - Autoencoder 3\")\n",
    "plt.xlabel(\"Predicted Label\")\n",
    "plt.ylabel(\"True Label\")\n",
    "\n",
    "plt.tight_layout()\n",
    "plt.show()\n"
   ]
  },
  {
   "cell_type": "code",
   "execution_count": null,
   "id": "de58eb6f",
   "metadata": {},
   "outputs": [],
   "source": []
  }
 ],
 "metadata": {
  "kernelspec": {
   "display_name": "Python 3 (ipykernel)",
   "language": "python",
   "name": "python3"
  },
  "language_info": {
   "codemirror_mode": {
    "name": "ipython",
    "version": 3
   },
   "file_extension": ".py",
   "mimetype": "text/x-python",
   "name": "python",
   "nbconvert_exporter": "python",
   "pygments_lexer": "ipython3",
   "version": "3.11.4"
  }
 },
 "nbformat": 4,
 "nbformat_minor": 5
}
